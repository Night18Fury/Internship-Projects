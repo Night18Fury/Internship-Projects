{
 "cells": [
  {
   "cell_type": "code",
   "execution_count": 1,
   "id": "4fd97bee",
   "metadata": {},
   "outputs": [
    {
     "name": "stdout",
     "output_type": "stream",
     "text": [
      "Requirement already satisfied: aiogram in /opt/anaconda3/lib/python3.12/site-packages (3.21.0)\n",
      "Requirement already satisfied: aiofiles<24.2,>=23.2.1 in /opt/anaconda3/lib/python3.12/site-packages (from aiogram) (24.1.0)\n",
      "Requirement already satisfied: aiohttp<3.13,>=3.9.0 in /opt/anaconda3/lib/python3.12/site-packages (from aiogram) (3.12.15)\n",
      "Requirement already satisfied: certifi>=2023.7.22 in /opt/anaconda3/lib/python3.12/site-packages (from aiogram) (2025.7.14)\n",
      "Requirement already satisfied: magic-filter<1.1,>=1.0.12 in /opt/anaconda3/lib/python3.12/site-packages (from aiogram) (1.0.12)\n",
      "Requirement already satisfied: pydantic<2.12,>=2.4.1 in /opt/anaconda3/lib/python3.12/site-packages (from aiogram) (2.11.7)\n",
      "Requirement already satisfied: typing-extensions<=5.0,>=4.7.0 in /opt/anaconda3/lib/python3.12/site-packages (from aiogram) (4.14.1)\n",
      "Requirement already satisfied: aiohappyeyeballs>=2.5.0 in /opt/anaconda3/lib/python3.12/site-packages (from aiohttp<3.13,>=3.9.0->aiogram) (2.6.1)\n",
      "Requirement already satisfied: aiosignal>=1.4.0 in /opt/anaconda3/lib/python3.12/site-packages (from aiohttp<3.13,>=3.9.0->aiogram) (1.4.0)\n",
      "Requirement already satisfied: attrs>=17.3.0 in /opt/anaconda3/lib/python3.12/site-packages (from aiohttp<3.13,>=3.9.0->aiogram) (25.3.0)\n",
      "Requirement already satisfied: frozenlist>=1.1.1 in /opt/anaconda3/lib/python3.12/site-packages (from aiohttp<3.13,>=3.9.0->aiogram) (1.4.0)\n",
      "Requirement already satisfied: multidict<7.0,>=4.5 in /opt/anaconda3/lib/python3.12/site-packages (from aiohttp<3.13,>=3.9.0->aiogram) (6.0.4)\n",
      "Requirement already satisfied: propcache>=0.2.0 in /opt/anaconda3/lib/python3.12/site-packages (from aiohttp<3.13,>=3.9.0->aiogram) (0.3.2)\n",
      "Requirement already satisfied: yarl<2.0,>=1.17.0 in /opt/anaconda3/lib/python3.12/site-packages (from aiohttp<3.13,>=3.9.0->aiogram) (1.20.1)\n",
      "Requirement already satisfied: annotated-types>=0.6.0 in /opt/anaconda3/lib/python3.12/site-packages (from pydantic<2.12,>=2.4.1->aiogram) (0.6.0)\n",
      "Requirement already satisfied: pydantic-core==2.33.2 in /opt/anaconda3/lib/python3.12/site-packages (from pydantic<2.12,>=2.4.1->aiogram) (2.33.2)\n",
      "Requirement already satisfied: typing-inspection>=0.4.0 in /opt/anaconda3/lib/python3.12/site-packages (from pydantic<2.12,>=2.4.1->aiogram) (0.4.1)\n",
      "Requirement already satisfied: idna>=2.0 in /opt/anaconda3/lib/python3.12/site-packages (from yarl<2.0,>=1.17.0->aiohttp<3.13,>=3.9.0->aiogram) (3.7)\n"
     ]
    }
   ],
   "source": [
    "!pip install -U aiogram"
   ]
  },
  {
   "cell_type": "code",
   "execution_count": 2,
   "id": "76aef222",
   "metadata": {},
   "outputs": [
    {
     "name": "stdout",
     "output_type": "stream",
     "text": [
      "Requirement already satisfied: pip in /opt/anaconda3/lib/python3.12/site-packages (25.1.1)\n",
      "Collecting pip\n",
      "  Downloading pip-25.2-py3-none-any.whl.metadata (4.7 kB)\n",
      "Downloading pip-25.2-py3-none-any.whl (1.8 MB)\n",
      "\u001b[2K   \u001b[90m━━━━━━━━━━━━━━━━━━━━━━━━━━━━━━━━━━━━━━━━\u001b[0m \u001b[32m1.8/1.8 MB\u001b[0m \u001b[31m6.1 MB/s\u001b[0m eta \u001b[36m0:00:00\u001b[0ma \u001b[36m0:00:01\u001b[0m\n",
      "\u001b[?25hInstalling collected packages: pip\n",
      "  Attempting uninstall: pip\n",
      "    Found existing installation: pip 25.1.1\n",
      "    Uninstalling pip-25.1.1:\n",
      "      Successfully uninstalled pip-25.1.1\n",
      "Successfully installed pip-25.2\n"
     ]
    }
   ],
   "source": [
    "!pip install --upgrade pip"
   ]
  },
  {
   "cell_type": "code",
   "execution_count": 3,
   "id": "f479bdf5",
   "metadata": {},
   "outputs": [
    {
     "name": "stdout",
     "output_type": "stream",
     "text": [
      "Requirement already satisfied: openai in /opt/anaconda3/lib/python3.12/site-packages (1.97.1)\n",
      "Requirement already satisfied: anyio<5,>=3.5.0 in /opt/anaconda3/lib/python3.12/site-packages (from openai) (4.2.0)\n",
      "Requirement already satisfied: distro<2,>=1.7.0 in /opt/anaconda3/lib/python3.12/site-packages (from openai) (1.9.0)\n",
      "Requirement already satisfied: httpx<1,>=0.23.0 in /opt/anaconda3/lib/python3.12/site-packages (from openai) (0.27.0)\n",
      "Requirement already satisfied: jiter<1,>=0.4.0 in /opt/anaconda3/lib/python3.12/site-packages (from openai) (0.10.0)\n",
      "Requirement already satisfied: pydantic<3,>=1.9.0 in /opt/anaconda3/lib/python3.12/site-packages (from openai) (2.11.7)\n",
      "Requirement already satisfied: sniffio in /opt/anaconda3/lib/python3.12/site-packages (from openai) (1.3.0)\n",
      "Requirement already satisfied: tqdm>4 in /opt/anaconda3/lib/python3.12/site-packages (from openai) (4.66.4)\n",
      "Requirement already satisfied: typing-extensions<5,>=4.11 in /opt/anaconda3/lib/python3.12/site-packages (from openai) (4.14.1)\n",
      "Requirement already satisfied: idna>=2.8 in /opt/anaconda3/lib/python3.12/site-packages (from anyio<5,>=3.5.0->openai) (3.7)\n",
      "Requirement already satisfied: certifi in /opt/anaconda3/lib/python3.12/site-packages (from httpx<1,>=0.23.0->openai) (2025.7.14)\n",
      "Requirement already satisfied: httpcore==1.* in /opt/anaconda3/lib/python3.12/site-packages (from httpx<1,>=0.23.0->openai) (1.0.2)\n",
      "Requirement already satisfied: h11<0.15,>=0.13 in /opt/anaconda3/lib/python3.12/site-packages (from httpcore==1.*->httpx<1,>=0.23.0->openai) (0.14.0)\n",
      "Requirement already satisfied: annotated-types>=0.6.0 in /opt/anaconda3/lib/python3.12/site-packages (from pydantic<3,>=1.9.0->openai) (0.6.0)\n",
      "Requirement already satisfied: pydantic-core==2.33.2 in /opt/anaconda3/lib/python3.12/site-packages (from pydantic<3,>=1.9.0->openai) (2.33.2)\n",
      "Requirement already satisfied: typing-inspection>=0.4.0 in /opt/anaconda3/lib/python3.12/site-packages (from pydantic<3,>=1.9.0->openai) (0.4.1)\n"
     ]
    }
   ],
   "source": [
    "!pip install openai"
   ]
  },
  {
   "cell_type": "code",
   "execution_count": 4,
   "id": "00761b3b",
   "metadata": {},
   "outputs": [
    {
     "name": "stdout",
     "output_type": "stream",
     "text": [
      "Requirement already satisfied: python-dotenv in /opt/anaconda3/lib/python3.12/site-packages (1.1.1)\n"
     ]
    }
   ],
   "source": [
    "!pip install python-dotenv"
   ]
  },
  {
   "cell_type": "code",
   "execution_count": 5,
   "id": "76081a84",
   "metadata": {},
   "outputs": [],
   "source": [
    "import asyncio\n",
    "from aiogram import Bot, Dispatcher, types\n",
    "from aiogram.filters import Command\n",
    "import os\n",
    "import logging\n",
    "import sys\n",
    "import openai \n",
    "from dotenv import load_dotenv"
   ]
  },
  {
   "cell_type": "code",
   "execution_count": 6,
   "id": "28934e7a",
   "metadata": {},
   "outputs": [
    {
     "data": {
      "text/plain": [
       "True"
      ]
     },
     "execution_count": 6,
     "metadata": {},
     "output_type": "execute_result"
    }
   ],
   "source": [
    "load_dotenv()"
   ]
  },
  {
   "cell_type": "code",
   "execution_count": 7,
   "id": "75ea6d5e",
   "metadata": {},
   "outputs": [],
   "source": [
    "openai.api_key = os.environ['OPENAI_API_KEY']"
   ]
  },
  {
   "cell_type": "code",
   "execution_count": 8,
   "id": "95cd8e42",
   "metadata": {},
   "outputs": [],
   "source": [
    "dp = Dispatcher()"
   ]
  },
  {
   "cell_type": "code",
   "execution_count": 9,
   "id": "999df94a",
   "metadata": {},
   "outputs": [],
   "source": [
    "class Gpt_context:\n",
    "    \"This will store previous responses from chatgpt\"\n",
    "    \n",
    "    def __init__(self) -> None:  # Should be __init__ not _init_\n",
    "        self.response = \"\""
   ]
  },
  {
   "cell_type": "code",
   "execution_count": 10,
   "id": "1e1015cd",
   "metadata": {},
   "outputs": [],
   "source": [
    "context = Gpt_context()"
   ]
  },
  {
   "cell_type": "code",
   "execution_count": 11,
   "id": "e4dffa09",
   "metadata": {},
   "outputs": [],
   "source": [
    "@dp.message(Command('start'))\n",
    "async def command_start_handler(message : types.Message):\n",
    " 'This handler receives messages with `/start` command'\n",
    " await message.answer(\"Hello, I am a bot\\n created by Aditya Dhingra \\nmanaged by Pluto\")"
   ]
  },
  {
   "cell_type": "code",
   "execution_count": 12,
   "id": "aeb8f575",
   "metadata": {},
   "outputs": [],
   "source": [
    "@dp.message(Command('help'))\n",
    "async def command_help_handler(message : types.Message):\n",
    "  \"This handler will recieve the messages with '/help' command\"\n",
    "  help_commnad = \"\"\"\n",
    "  hi, there, please use these commands -\n",
    "  /start - to start the conversation\n",
    "  /help - to ask for help information \"\"\"\n",
    "  await message.reply(help_commnad)"
   ]
  },
  {
   "cell_type": "code",
   "execution_count": 13,
   "id": "f1765ff1",
   "metadata": {},
   "outputs": [],
   "source": [
    "@dp.message()\n",
    "async def chatgpt(message: types.Message):\n",
    "    \"This will process the messages and will get response from openai\"\n",
    "    print(f\"User Prompt: {message.text}\")\n",
    "    \n",
    "    client = openai.OpenAI()  # Create client instance\n",
    "    response = client.chat.completions.create(\n",
    "        model='gpt-4o-mini',\n",
    "        messages=[\n",
    "            {'role': 'user', 'content': message.text}\n",
    "        ]\n",
    "    )\n",
    "    \n",
    "    bot_response = response.choices[0].message.content\n",
    "    print(f\"Bot Response: {bot_response}\")\n",
    "    await message.reply(bot_response)\n"
   ]
  },
  {
   "cell_type": "code",
   "execution_count": 14,
   "id": "5f1ab332",
   "metadata": {},
   "outputs": [],
   "source": [
    "async def main() -> None:\n",
    "  bot = Bot(os.environ['TELEGRAM_BOT_TOKENIZER'])\n",
    "  await dp.start_polling(bot)"
   ]
  },
  {
   "cell_type": "code",
   "execution_count": 15,
   "id": "b72e678d",
   "metadata": {},
   "outputs": [
    {
     "name": "stdout",
     "output_type": "stream",
     "text": [
      "INFO:aiogram.dispatcher:Start polling\n"
     ]
    },
    {
     "name": "stdout",
     "output_type": "stream",
     "text": [
      "INFO:aiogram.dispatcher:Run polling for bot @codwaw_bot id=8263218086 - 'SK45'\n",
      "INFO:aiogram.event:Update id=992599623 is handled. Duration 846 ms by bot id=8263218086\n",
      "WARNING:aiogram.dispatcher:Received SIGINT signal\n",
      "INFO:aiogram.dispatcher:Polling stopped for bot @codwaw_bot id=8263218086 - 'SK45'\n",
      "INFO:aiogram.dispatcher:Polling stopped\n"
     ]
    }
   ],
   "source": [
    "if __name__ ==\"__main__\":\n",
    "  logging.basicConfig(level=logging.INFO, stream=sys.stdout)\n",
    "  await main()"
   ]
  },
  {
   "cell_type": "code",
   "execution_count": null,
   "id": "03741e2f",
   "metadata": {},
   "outputs": [],
   "source": []
  }
 ],
 "metadata": {
  "kernelspec": {
   "display_name": "base",
   "language": "python",
   "name": "python3"
  },
  "language_info": {
   "codemirror_mode": {
    "name": "ipython",
    "version": 3
   },
   "file_extension": ".py",
   "mimetype": "text/x-python",
   "name": "python",
   "nbconvert_exporter": "python",
   "pygments_lexer": "ipython3",
   "version": "3.12.2"
  }
 },
 "nbformat": 4,
 "nbformat_minor": 5
}
